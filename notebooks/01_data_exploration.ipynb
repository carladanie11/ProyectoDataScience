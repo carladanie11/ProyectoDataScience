{
 "cells": [],
 "metadata": {
  "kernelspec": {
   "display_name": "proyecto_venv",
   "language": "python",
   "name": "python3"
  },
  "language_info": {
   "name": "python",
   "version": "3.9.2"
  }
 },
 "nbformat": 4,
 "nbformat_minor": 5
}
