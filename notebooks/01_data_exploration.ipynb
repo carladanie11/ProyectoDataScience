{
 "cells": [
  {
   "cell_type": "markdown",
   "id": "de4a9519",
   "metadata": {},
   "source": [
    "# Paso1: Seleccion y preparacion del Dataset"
   ]
  },
  {
   "cell_type": "code",
   "execution_count": null,
   "id": "078c2ad1",
   "metadata": {},
   "outputs": [],
   "source": []
  },
  {
   "cell_type": "code",
   "execution_count": 2,
   "id": "7024f666",
   "metadata": {},
   "outputs": [
    {
     "name": "stdout",
     "output_type": "stream",
     "text": [
      "Descargando yellow_tripdata_2016-01.parquet...\n",
      "✅ yellow_tripdata_2016-01.parquet descargado\n",
      "Descargando yellow_tripdata_2016-02.parquet...\n",
      "✅ yellow_tripdata_2016-02.parquet descargado\n",
      "Descargando yellow_tripdata_2016-03.parquet...\n",
      "✅ yellow_tripdata_2016-03.parquet descargado\n",
      "Descargando yellow_tripdata_2016-04.parquet...\n",
      "✅ yellow_tripdata_2016-04.parquet descargado\n",
      "Descargando yellow_tripdata_2016-05.parquet...\n",
      "✅ yellow_tripdata_2016-05.parquet descargado\n",
      "Descargando yellow_tripdata_2016-06.parquet...\n",
      "✅ yellow_tripdata_2016-06.parquet descargado\n",
      "🎉 Todas las descargas completadas!\n"
     ]
    }
   ],
   "source": [
    "import pandas as pd\n",
    "import requests\n",
    "import os\n",
    "\n",
    "# URLs de los archivos\n",
    "urls = [\n",
    "    \"https://d37ci6vzurychx.cloudfront.net/trip-data/yellow_tripdata_2016-01.parquet\",\n",
    "    \"https://d37ci6vzurychx.cloudfront.net/trip-data/yellow_tripdata_2016-02.parquet\",\n",
    "    \"https://d37ci6vzurychx.cloudfront.net/trip-data/yellow_tripdata_2016-03.parquet\",\n",
    "    \"https://d37ci6vzurychx.cloudfront.net/trip-data/yellow_tripdata_2016-04.parquet\",\n",
    "    \"https://d37ci6vzurychx.cloudfront.net/trip-data/yellow_tripdata_2016-05.parquet\",\n",
    "    \"https://d37ci6vzurychx.cloudfront.net/trip-data/yellow_tripdata_2016-06.parquet\"\n",
    "]\n",
    "\n",
    "# Función para descargar archivo\n",
    "def download_file(url, filename):\n",
    "    print(f\"Descargando {filename}...\")\n",
    "    response = requests.get(url, stream=True)\n",
    "    with open(filename, 'wb') as f:\n",
    "        for chunk in response.iter_content(chunk_size=8192):\n",
    "            f.write(chunk)\n",
    "    print(f\"✅ {filename} descargado\")\n",
    "\n",
    "# Descargar todos los archivos\n",
    "for url in urls:\n",
    "    filename = url.split('/')[-1]  # Extrae el nombre del archivo\n",
    "    if not os.path.exists(filename):\n",
    "        download_file(url, filename)\n",
    "    else:\n",
    "        print(f\"⏭️  {filename} ya existe, saltando...\")\n",
    "\n",
    "print(\"🎉 Todas las descargas completadas!\")"
   ]
  }
 ],
 "metadata": {
  "kernelspec": {
   "display_name": "proyecto_venv",
   "language": "python",
   "name": "python3"
  },
  "language_info": {
   "codemirror_mode": {
    "name": "ipython",
    "version": 3
   },
   "file_extension": ".py",
   "mimetype": "text/x-python",
   "name": "python",
   "nbconvert_exporter": "python",
   "pygments_lexer": "ipython3",
   "version": "3.9.2"
  }
 },
 "nbformat": 4,
 "nbformat_minor": 5
}
